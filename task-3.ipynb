{
 "cells": [
  {
   "cell_type": "code",
   "execution_count": 1,
   "id": "824d598f",
   "metadata": {},
   "outputs": [],
   "source": [
    "import nltk\n",
    "import pandas as pd\n",
    "import re\n",
    "import fitz "
   ]
  },
  {
   "cell_type": "code",
   "execution_count": 12,
   "id": "9960b73f",
   "metadata": {},
   "outputs": [
    {
     "data": {
      "text/html": [
       "<div>\n",
       "<style scoped>\n",
       "    .dataframe tbody tr th:only-of-type {\n",
       "        vertical-align: middle;\n",
       "    }\n",
       "\n",
       "    .dataframe tbody tr th {\n",
       "        vertical-align: top;\n",
       "    }\n",
       "\n",
       "    .dataframe thead th {\n",
       "        text-align: right;\n",
       "    }\n",
       "</style>\n",
       "<table border=\"1\" class=\"dataframe\">\n",
       "  <thead>\n",
       "    <tr style=\"text-align: right;\">\n",
       "      <th></th>\n",
       "      <th>0</th>\n",
       "    </tr>\n",
       "  </thead>\n",
       "  <tbody>\n",
       "    <tr>\n",
       "      <th>invoice_date</th>\n",
       "      <td>July 25, 2024</td>\n",
       "    </tr>\n",
       "    <tr>\n",
       "      <th>Vendor</th>\n",
       "      <td>GHI Building Supplies</td>\n",
       "    </tr>\n",
       "    <tr>\n",
       "      <th>Address</th>\n",
       "      <td>9101 Trade St, Buildville, ST 34567</td>\n",
       "    </tr>\n",
       "    <tr>\n",
       "      <th>project</th>\n",
       "      <td>Warehouse Expansion</td>\n",
       "    </tr>\n",
       "    <tr>\n",
       "      <th>Customer</th>\n",
       "      <td>JKL Construction Co.</td>\n",
       "    </tr>\n",
       "    <tr>\n",
       "      <th>Terms</th>\n",
       "      <td>Payment due by August 25, 2024.</td>\n",
       "    </tr>\n",
       "  </tbody>\n",
       "</table>\n",
       "</div>"
      ],
      "text/plain": [
       "                                                0\n",
       "invoice_date                        July 25, 2024\n",
       "Vendor                      GHI Building Supplies\n",
       "Address       9101 Trade St, Buildville, ST 34567\n",
       "project                       Warehouse Expansion\n",
       "Customer                     JKL Construction Co.\n",
       "Terms             Payment due by August 25, 2024."
      ]
     },
     "execution_count": 12,
     "metadata": {},
     "output_type": "execute_result"
    }
   ],
   "source": [
    "# read pdf file\n",
    "document = fitz.open('Invoice_Sample03.pdf')\n",
    "text = document.load_page(0).get_text()   # text extract\n",
    "\n",
    "# find required details\n",
    "invoice_date = re.search(r'Invoice Date: \\s*(.*)', text).group(1).strip()\n",
    "Vendor = re.search(r'Vendor:\\s*(.*)', text).group(1).strip()\n",
    "Address = re.search(r'Address:\\s*(.*)', text).group(1).strip()\n",
    "project = re.search(r'Project:\\s*(.*)', text).group(1).strip()\n",
    "Customer = re.search(r'Customer:\\s*(.*)', text).group(1).strip()\n",
    "Terms = re.search(r'Terms:\\s*(.*)', text).group(1).strip()\n",
    "# create datafrae\n",
    "df=pd.DataFrame([invoice_date,Vendor,Address,project,Customer,Terms],\n",
    "             index=[\"invoice_date\",\"Vendor\",\"Address\",\"project\",\"Customer\",\"Terms\"])\n",
    "df"
   ]
  },
  {
   "cell_type": "code",
   "execution_count": null,
   "id": "93fce269",
   "metadata": {},
   "outputs": [],
   "source": []
  }
 ],
 "metadata": {
  "kernelspec": {
   "display_name": "Python 3 (ipykernel)",
   "language": "python",
   "name": "python3"
  },
  "language_info": {
   "codemirror_mode": {
    "name": "ipython",
    "version": 3
   },
   "file_extension": ".py",
   "mimetype": "text/x-python",
   "name": "python",
   "nbconvert_exporter": "python",
   "pygments_lexer": "ipython3",
   "version": "3.9.17"
  }
 },
 "nbformat": 4,
 "nbformat_minor": 5
}
